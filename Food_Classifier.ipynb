{
  "nbformat": 4,
  "nbformat_minor": 0,
  "metadata": {
    "colab": {
      "name": "Food_Classifier.ipynb",
      "provenance": [],
      "collapsed_sections": []
    },
    "kernelspec": {
      "name": "python3",
      "display_name": "Python 3"
    },
    "accelerator": "GPU",
    "widgets": {
      "application/vnd.jupyter.widget-state+json": {
        "5ccdba930f3545ebbdc759026b6d0298": {
          "model_module": "@jupyter-widgets/controls",
          "model_name": "HBoxModel",
          "state": {
            "_view_name": "HBoxView",
            "_dom_classes": [],
            "_model_name": "HBoxModel",
            "_view_module": "@jupyter-widgets/controls",
            "_model_module_version": "1.5.0",
            "_view_count": null,
            "_view_module_version": "1.5.0",
            "box_style": "",
            "layout": "IPY_MODEL_36fd917afcf94d7da3e2e743baf2ad5c",
            "_model_module": "@jupyter-widgets/controls",
            "children": [
              "IPY_MODEL_47b2bdd943e442f08d6056f9500cb482",
              "IPY_MODEL_19e9db9e8e4340b4b0e83b0f63a0a820"
            ]
          }
        },
        "36fd917afcf94d7da3e2e743baf2ad5c": {
          "model_module": "@jupyter-widgets/base",
          "model_name": "LayoutModel",
          "state": {
            "_view_name": "LayoutView",
            "grid_template_rows": null,
            "right": null,
            "justify_content": null,
            "_view_module": "@jupyter-widgets/base",
            "overflow": null,
            "_model_module_version": "1.2.0",
            "_view_count": null,
            "flex_flow": null,
            "width": null,
            "min_width": null,
            "border": null,
            "align_items": null,
            "bottom": null,
            "_model_module": "@jupyter-widgets/base",
            "top": null,
            "grid_column": null,
            "overflow_y": null,
            "overflow_x": null,
            "grid_auto_flow": null,
            "grid_area": null,
            "grid_template_columns": null,
            "flex": null,
            "_model_name": "LayoutModel",
            "justify_items": null,
            "grid_row": null,
            "max_height": null,
            "align_content": null,
            "visibility": null,
            "align_self": null,
            "height": null,
            "min_height": null,
            "padding": null,
            "grid_auto_rows": null,
            "grid_gap": null,
            "max_width": null,
            "order": null,
            "_view_module_version": "1.2.0",
            "grid_template_areas": null,
            "object_position": null,
            "object_fit": null,
            "grid_auto_columns": null,
            "margin": null,
            "display": null,
            "left": null
          }
        },
        "47b2bdd943e442f08d6056f9500cb482": {
          "model_module": "@jupyter-widgets/controls",
          "model_name": "FloatProgressModel",
          "state": {
            "_view_name": "ProgressView",
            "style": "IPY_MODEL_c40bdba766e647fdba138bf132634f9d",
            "_dom_classes": [],
            "description": "100%",
            "_model_name": "FloatProgressModel",
            "bar_style": "success",
            "max": 46827520,
            "_view_module": "@jupyter-widgets/controls",
            "_model_module_version": "1.5.0",
            "value": 46827520,
            "_view_count": null,
            "_view_module_version": "1.5.0",
            "orientation": "horizontal",
            "min": 0,
            "description_tooltip": null,
            "_model_module": "@jupyter-widgets/controls",
            "layout": "IPY_MODEL_16b0b7188d4d4a9299030e73a0dc9418"
          }
        },
        "19e9db9e8e4340b4b0e83b0f63a0a820": {
          "model_module": "@jupyter-widgets/controls",
          "model_name": "HTMLModel",
          "state": {
            "_view_name": "HTMLView",
            "style": "IPY_MODEL_7137f78480ca4f0780cb5daf7dc96e81",
            "_dom_classes": [],
            "description": "",
            "_model_name": "HTMLModel",
            "placeholder": "​",
            "_view_module": "@jupyter-widgets/controls",
            "_model_module_version": "1.5.0",
            "value": " 44.7M/44.7M [03:36&lt;00:00, 216kB/s]",
            "_view_count": null,
            "_view_module_version": "1.5.0",
            "description_tooltip": null,
            "_model_module": "@jupyter-widgets/controls",
            "layout": "IPY_MODEL_dc5fc7cf6df44db1b385a4f091da3087"
          }
        },
        "c40bdba766e647fdba138bf132634f9d": {
          "model_module": "@jupyter-widgets/controls",
          "model_name": "ProgressStyleModel",
          "state": {
            "_view_name": "StyleView",
            "_model_name": "ProgressStyleModel",
            "description_width": "initial",
            "_view_module": "@jupyter-widgets/base",
            "_model_module_version": "1.5.0",
            "_view_count": null,
            "_view_module_version": "1.2.0",
            "bar_color": null,
            "_model_module": "@jupyter-widgets/controls"
          }
        },
        "16b0b7188d4d4a9299030e73a0dc9418": {
          "model_module": "@jupyter-widgets/base",
          "model_name": "LayoutModel",
          "state": {
            "_view_name": "LayoutView",
            "grid_template_rows": null,
            "right": null,
            "justify_content": null,
            "_view_module": "@jupyter-widgets/base",
            "overflow": null,
            "_model_module_version": "1.2.0",
            "_view_count": null,
            "flex_flow": null,
            "width": null,
            "min_width": null,
            "border": null,
            "align_items": null,
            "bottom": null,
            "_model_module": "@jupyter-widgets/base",
            "top": null,
            "grid_column": null,
            "overflow_y": null,
            "overflow_x": null,
            "grid_auto_flow": null,
            "grid_area": null,
            "grid_template_columns": null,
            "flex": null,
            "_model_name": "LayoutModel",
            "justify_items": null,
            "grid_row": null,
            "max_height": null,
            "align_content": null,
            "visibility": null,
            "align_self": null,
            "height": null,
            "min_height": null,
            "padding": null,
            "grid_auto_rows": null,
            "grid_gap": null,
            "max_width": null,
            "order": null,
            "_view_module_version": "1.2.0",
            "grid_template_areas": null,
            "object_position": null,
            "object_fit": null,
            "grid_auto_columns": null,
            "margin": null,
            "display": null,
            "left": null
          }
        },
        "7137f78480ca4f0780cb5daf7dc96e81": {
          "model_module": "@jupyter-widgets/controls",
          "model_name": "DescriptionStyleModel",
          "state": {
            "_view_name": "StyleView",
            "_model_name": "DescriptionStyleModel",
            "description_width": "",
            "_view_module": "@jupyter-widgets/base",
            "_model_module_version": "1.5.0",
            "_view_count": null,
            "_view_module_version": "1.2.0",
            "_model_module": "@jupyter-widgets/controls"
          }
        },
        "dc5fc7cf6df44db1b385a4f091da3087": {
          "model_module": "@jupyter-widgets/base",
          "model_name": "LayoutModel",
          "state": {
            "_view_name": "LayoutView",
            "grid_template_rows": null,
            "right": null,
            "justify_content": null,
            "_view_module": "@jupyter-widgets/base",
            "overflow": null,
            "_model_module_version": "1.2.0",
            "_view_count": null,
            "flex_flow": null,
            "width": null,
            "min_width": null,
            "border": null,
            "align_items": null,
            "bottom": null,
            "_model_module": "@jupyter-widgets/base",
            "top": null,
            "grid_column": null,
            "overflow_y": null,
            "overflow_x": null,
            "grid_auto_flow": null,
            "grid_area": null,
            "grid_template_columns": null,
            "flex": null,
            "_model_name": "LayoutModel",
            "justify_items": null,
            "grid_row": null,
            "max_height": null,
            "align_content": null,
            "visibility": null,
            "align_self": null,
            "height": null,
            "min_height": null,
            "padding": null,
            "grid_auto_rows": null,
            "grid_gap": null,
            "max_width": null,
            "order": null,
            "_view_module_version": "1.2.0",
            "grid_template_areas": null,
            "object_position": null,
            "object_fit": null,
            "grid_auto_columns": null,
            "margin": null,
            "display": null,
            "left": null
          }
        },
        "f4cfe52c5b5b4ff699fea40a8d0a6bf3": {
          "model_module": "@jupyter-widgets/controls",
          "model_name": "VBoxModel",
          "state": {
            "_view_name": "VBoxView",
            "_dom_classes": [],
            "_model_name": "VBoxModel",
            "_view_module": "@jupyter-widgets/controls",
            "_model_module_version": "1.5.0",
            "_view_count": null,
            "_view_module_version": "1.5.0",
            "box_style": "",
            "layout": "IPY_MODEL_4453f1e6c671435895f9670726cc7fdf",
            "_model_module": "@jupyter-widgets/controls",
            "children": [
              "IPY_MODEL_dc8d5d1e152e4a2c850a68664166c7da",
              "IPY_MODEL_f57b5ba4276d4298a3cedb8cebf4cf94",
              "IPY_MODEL_5edc8554ab9a4443ac23b6293d2d2405",
              "IPY_MODEL_0eca6b416db54f0db00965d695387f57",
              "IPY_MODEL_e4432dcf8c314f868ad6d561051eded6"
            ]
          }
        },
        "4453f1e6c671435895f9670726cc7fdf": {
          "model_module": "@jupyter-widgets/base",
          "model_name": "LayoutModel",
          "state": {
            "_view_name": "LayoutView",
            "grid_template_rows": null,
            "right": null,
            "justify_content": null,
            "_view_module": "@jupyter-widgets/base",
            "overflow": null,
            "_model_module_version": "1.2.0",
            "_view_count": null,
            "flex_flow": null,
            "width": null,
            "min_width": null,
            "border": null,
            "align_items": null,
            "bottom": null,
            "_model_module": "@jupyter-widgets/base",
            "top": null,
            "grid_column": null,
            "overflow_y": null,
            "overflow_x": null,
            "grid_auto_flow": null,
            "grid_area": null,
            "grid_template_columns": null,
            "flex": null,
            "_model_name": "LayoutModel",
            "justify_items": null,
            "grid_row": null,
            "max_height": null,
            "align_content": null,
            "visibility": null,
            "align_self": null,
            "height": null,
            "min_height": null,
            "padding": null,
            "grid_auto_rows": null,
            "grid_gap": null,
            "max_width": null,
            "order": null,
            "_view_module_version": "1.2.0",
            "grid_template_areas": null,
            "object_position": null,
            "object_fit": null,
            "grid_auto_columns": null,
            "margin": null,
            "display": null,
            "left": null
          }
        },
        "dc8d5d1e152e4a2c850a68664166c7da": {
          "model_module": "@jupyter-widgets/controls",
          "model_name": "LabelModel",
          "state": {
            "_view_name": "LabelView",
            "style": "IPY_MODEL_b3a9b2247e8e43c4b2ba4042283eaae1",
            "_dom_classes": [],
            "description": "",
            "_model_name": "LabelModel",
            "placeholder": "​",
            "_view_module": "@jupyter-widgets/controls",
            "_model_module_version": "1.5.0",
            "value": "Select your bear!",
            "_view_count": null,
            "_view_module_version": "1.5.0",
            "description_tooltip": null,
            "_model_module": "@jupyter-widgets/controls",
            "layout": "IPY_MODEL_20e47569b09f41db81063cb644a81a0b"
          }
        },
        "f57b5ba4276d4298a3cedb8cebf4cf94": {
          "model_module": "@jupyter-widgets/controls",
          "model_name": "FileUploadModel",
          "state": {
            "_view_name": "FileUploadView",
            "_counter": 1,
            "style": "IPY_MODEL_a5784097d3fd416e861192490e4ef9f0",
            "_dom_classes": [],
            "description": "Upload",
            "multiple": false,
            "_model_name": "FileUploadModel",
            "data": [
              null
            ],
            "button_style": "",
            "_view_module": "@jupyter-widgets/controls",
            "_model_module_version": "1.5.0",
            "accept": "",
            "_view_count": null,
            "disabled": false,
            "_view_module_version": "1.5.0",
            "error": "",
            "description_tooltip": null,
            "metadata": [
              {
                "name": "bagel.jpg",
                "type": "image/jpeg",
                "size": 92064,
                "lastModified": 1602769214078
              }
            ],
            "_model_module": "@jupyter-widgets/controls",
            "layout": "IPY_MODEL_69382279cdd043f3a9080c04c545d6d8",
            "icon": "upload"
          }
        },
        "5edc8554ab9a4443ac23b6293d2d2405": {
          "model_module": "@jupyter-widgets/controls",
          "model_name": "ButtonModel",
          "state": {
            "_view_name": "ButtonView",
            "style": "IPY_MODEL_8bda27be9d8a485682f00af18960aeca",
            "_dom_classes": [],
            "description": "Classify",
            "_model_name": "ButtonModel",
            "button_style": "",
            "_view_module": "@jupyter-widgets/controls",
            "_model_module_version": "1.5.0",
            "tooltip": "",
            "_view_count": null,
            "disabled": false,
            "_view_module_version": "1.5.0",
            "layout": "IPY_MODEL_c29371c9b39e4e24a6b28bf36c51a413",
            "_model_module": "@jupyter-widgets/controls",
            "icon": ""
          }
        },
        "0eca6b416db54f0db00965d695387f57": {
          "model_module": "@jupyter-widgets/output",
          "model_name": "OutputModel",
          "state": {
            "_view_name": "OutputView",
            "msg_id": "",
            "_dom_classes": [],
            "_model_name": "OutputModel",
            "outputs": [
              {
                "output_type": "display_data",
                "metadata": {
                  "tags": []
                },
                "image/png": "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\n",
                "text/plain": "<PIL.Image.Image image mode=RGB size=128x128 at 0x7FDFD15A1470>"
              }
            ],
            "_view_module": "@jupyter-widgets/output",
            "_model_module_version": "1.0.0",
            "_view_count": null,
            "_view_module_version": "1.0.0",
            "layout": "IPY_MODEL_0269c1ec4b364c2b94006f853b59d9e9",
            "_model_module": "@jupyter-widgets/output"
          }
        },
        "e4432dcf8c314f868ad6d561051eded6": {
          "model_module": "@jupyter-widgets/controls",
          "model_name": "LabelModel",
          "state": {
            "_view_name": "LabelView",
            "style": "IPY_MODEL_e87bb1518387497f98f68af538a0819e",
            "_dom_classes": [],
            "description": "",
            "_model_name": "LabelModel",
            "placeholder": "​",
            "_view_module": "@jupyter-widgets/controls",
            "_model_module_version": "1.5.0",
            "value": "Prediction: bagel; Probability: 0.8405",
            "_view_count": null,
            "_view_module_version": "1.5.0",
            "description_tooltip": null,
            "_model_module": "@jupyter-widgets/controls",
            "layout": "IPY_MODEL_ab8aa25503fe4c3488e360e9c2a2032d"
          }
        },
        "b3a9b2247e8e43c4b2ba4042283eaae1": {
          "model_module": "@jupyter-widgets/controls",
          "model_name": "DescriptionStyleModel",
          "state": {
            "_view_name": "StyleView",
            "_model_name": "DescriptionStyleModel",
            "description_width": "",
            "_view_module": "@jupyter-widgets/base",
            "_model_module_version": "1.5.0",
            "_view_count": null,
            "_view_module_version": "1.2.0",
            "_model_module": "@jupyter-widgets/controls"
          }
        },
        "20e47569b09f41db81063cb644a81a0b": {
          "model_module": "@jupyter-widgets/base",
          "model_name": "LayoutModel",
          "state": {
            "_view_name": "LayoutView",
            "grid_template_rows": null,
            "right": null,
            "justify_content": null,
            "_view_module": "@jupyter-widgets/base",
            "overflow": null,
            "_model_module_version": "1.2.0",
            "_view_count": null,
            "flex_flow": null,
            "width": null,
            "min_width": null,
            "border": null,
            "align_items": null,
            "bottom": null,
            "_model_module": "@jupyter-widgets/base",
            "top": null,
            "grid_column": null,
            "overflow_y": null,
            "overflow_x": null,
            "grid_auto_flow": null,
            "grid_area": null,
            "grid_template_columns": null,
            "flex": null,
            "_model_name": "LayoutModel",
            "justify_items": null,
            "grid_row": null,
            "max_height": null,
            "align_content": null,
            "visibility": null,
            "align_self": null,
            "height": null,
            "min_height": null,
            "padding": null,
            "grid_auto_rows": null,
            "grid_gap": null,
            "max_width": null,
            "order": null,
            "_view_module_version": "1.2.0",
            "grid_template_areas": null,
            "object_position": null,
            "object_fit": null,
            "grid_auto_columns": null,
            "margin": null,
            "display": null,
            "left": null
          }
        },
        "a5784097d3fd416e861192490e4ef9f0": {
          "model_module": "@jupyter-widgets/controls",
          "model_name": "ButtonStyleModel",
          "state": {
            "_view_name": "StyleView",
            "_model_name": "ButtonStyleModel",
            "_view_module": "@jupyter-widgets/base",
            "_model_module_version": "1.5.0",
            "_view_count": null,
            "button_color": null,
            "font_weight": "",
            "_view_module_version": "1.2.0",
            "_model_module": "@jupyter-widgets/controls"
          }
        },
        "69382279cdd043f3a9080c04c545d6d8": {
          "model_module": "@jupyter-widgets/base",
          "model_name": "LayoutModel",
          "state": {
            "_view_name": "LayoutView",
            "grid_template_rows": null,
            "right": null,
            "justify_content": null,
            "_view_module": "@jupyter-widgets/base",
            "overflow": null,
            "_model_module_version": "1.2.0",
            "_view_count": null,
            "flex_flow": null,
            "width": null,
            "min_width": null,
            "border": null,
            "align_items": null,
            "bottom": null,
            "_model_module": "@jupyter-widgets/base",
            "top": null,
            "grid_column": null,
            "overflow_y": null,
            "overflow_x": null,
            "grid_auto_flow": null,
            "grid_area": null,
            "grid_template_columns": null,
            "flex": null,
            "_model_name": "LayoutModel",
            "justify_items": null,
            "grid_row": null,
            "max_height": null,
            "align_content": null,
            "visibility": null,
            "align_self": null,
            "height": null,
            "min_height": null,
            "padding": null,
            "grid_auto_rows": null,
            "grid_gap": null,
            "max_width": null,
            "order": null,
            "_view_module_version": "1.2.0",
            "grid_template_areas": null,
            "object_position": null,
            "object_fit": null,
            "grid_auto_columns": null,
            "margin": null,
            "display": null,
            "left": null
          }
        },
        "8bda27be9d8a485682f00af18960aeca": {
          "model_module": "@jupyter-widgets/controls",
          "model_name": "ButtonStyleModel",
          "state": {
            "_view_name": "StyleView",
            "_model_name": "ButtonStyleModel",
            "_view_module": "@jupyter-widgets/base",
            "_model_module_version": "1.5.0",
            "_view_count": null,
            "button_color": null,
            "font_weight": "",
            "_view_module_version": "1.2.0",
            "_model_module": "@jupyter-widgets/controls"
          }
        },
        "c29371c9b39e4e24a6b28bf36c51a413": {
          "model_module": "@jupyter-widgets/base",
          "model_name": "LayoutModel",
          "state": {
            "_view_name": "LayoutView",
            "grid_template_rows": null,
            "right": null,
            "justify_content": null,
            "_view_module": "@jupyter-widgets/base",
            "overflow": null,
            "_model_module_version": "1.2.0",
            "_view_count": null,
            "flex_flow": null,
            "width": null,
            "min_width": null,
            "border": null,
            "align_items": null,
            "bottom": null,
            "_model_module": "@jupyter-widgets/base",
            "top": null,
            "grid_column": null,
            "overflow_y": null,
            "overflow_x": null,
            "grid_auto_flow": null,
            "grid_area": null,
            "grid_template_columns": null,
            "flex": null,
            "_model_name": "LayoutModel",
            "justify_items": null,
            "grid_row": null,
            "max_height": null,
            "align_content": null,
            "visibility": null,
            "align_self": null,
            "height": null,
            "min_height": null,
            "padding": null,
            "grid_auto_rows": null,
            "grid_gap": null,
            "max_width": null,
            "order": null,
            "_view_module_version": "1.2.0",
            "grid_template_areas": null,
            "object_position": null,
            "object_fit": null,
            "grid_auto_columns": null,
            "margin": null,
            "display": null,
            "left": null
          }
        },
        "e87bb1518387497f98f68af538a0819e": {
          "model_module": "@jupyter-widgets/controls",
          "model_name": "DescriptionStyleModel",
          "state": {
            "_view_name": "StyleView",
            "_model_name": "DescriptionStyleModel",
            "description_width": "",
            "_view_module": "@jupyter-widgets/base",
            "_model_module_version": "1.5.0",
            "_view_count": null,
            "_view_module_version": "1.2.0",
            "_model_module": "@jupyter-widgets/controls"
          }
        },
        "ab8aa25503fe4c3488e360e9c2a2032d": {
          "model_module": "@jupyter-widgets/base",
          "model_name": "LayoutModel",
          "state": {
            "_view_name": "LayoutView",
            "grid_template_rows": null,
            "right": null,
            "justify_content": null,
            "_view_module": "@jupyter-widgets/base",
            "overflow": null,
            "_model_module_version": "1.2.0",
            "_view_count": null,
            "flex_flow": null,
            "width": null,
            "min_width": null,
            "border": null,
            "align_items": null,
            "bottom": null,
            "_model_module": "@jupyter-widgets/base",
            "top": null,
            "grid_column": null,
            "overflow_y": null,
            "overflow_x": null,
            "grid_auto_flow": null,
            "grid_area": null,
            "grid_template_columns": null,
            "flex": null,
            "_model_name": "LayoutModel",
            "justify_items": null,
            "grid_row": null,
            "max_height": null,
            "align_content": null,
            "visibility": null,
            "align_self": null,
            "height": null,
            "min_height": null,
            "padding": null,
            "grid_auto_rows": null,
            "grid_gap": null,
            "max_width": null,
            "order": null,
            "_view_module_version": "1.2.0",
            "grid_template_areas": null,
            "object_position": null,
            "object_fit": null,
            "grid_auto_columns": null,
            "margin": null,
            "display": null,
            "left": null
          }
        },
        "0269c1ec4b364c2b94006f853b59d9e9": {
          "model_module": "@jupyter-widgets/base",
          "model_name": "LayoutModel",
          "state": {
            "_view_name": "LayoutView",
            "grid_template_rows": null,
            "right": null,
            "justify_content": null,
            "_view_module": "@jupyter-widgets/base",
            "overflow": null,
            "_model_module_version": "1.2.0",
            "_view_count": null,
            "flex_flow": null,
            "width": null,
            "min_width": null,
            "border": null,
            "align_items": null,
            "bottom": null,
            "_model_module": "@jupyter-widgets/base",
            "top": null,
            "grid_column": null,
            "overflow_y": null,
            "overflow_x": null,
            "grid_auto_flow": null,
            "grid_area": null,
            "grid_template_columns": null,
            "flex": null,
            "_model_name": "LayoutModel",
            "justify_items": null,
            "grid_row": null,
            "max_height": null,
            "align_content": null,
            "visibility": null,
            "align_self": null,
            "height": null,
            "min_height": null,
            "padding": null,
            "grid_auto_rows": null,
            "grid_gap": null,
            "max_width": null,
            "order": null,
            "_view_module_version": "1.2.0",
            "grid_template_areas": null,
            "object_position": null,
            "object_fit": null,
            "grid_auto_columns": null,
            "margin": null,
            "display": null,
            "left": null
          }
        }
      }
    }
  },
  "cells": [
    {
      "cell_type": "code",
      "metadata": {
        "id": "6RyXYqitZkkC",
        "outputId": "ddfd8969-0b8e-4f9a-9ea6-36f2fed9404c",
        "colab": {
          "base_uri": "https://localhost:8080/",
          "height": 195
        }
      },
      "source": [
        "# App to classify food items\n",
        "!pip install -Uqq fastbook\n",
        "import fastbook\n",
        "fastbook.setup_book()"
      ],
      "execution_count": 2,
      "outputs": [
        {
          "output_type": "stream",
          "text": [
            "Enabling: voila\n",
            "- Writing config: /root/.jupyter\n",
            "    - Validating...\n",
            "Error loading server extension voila\n",
            "     \u001b[31m X\u001b[0m is voila importable?\n",
            "Enabling: —sys-prefix\n",
            "- Writing config: /root/.jupyter\n",
            "    - Validating...\n",
            "Error loading server extension —sys-prefix\n",
            "     \u001b[31m X\u001b[0m is —sys-prefix importable?\n"
          ],
          "name": "stdout"
        }
      ]
    },
    {
      "cell_type": "code",
      "metadata": {
        "id": "K5nOfeAMZneR"
      },
      "source": [
        "from fastbook import *\n",
        "from fastai.vision.widgets import *"
      ],
      "execution_count": 3,
      "outputs": []
    },
    {
      "cell_type": "code",
      "metadata": {
        "id": "U4jJjHOZa3gP",
        "outputId": "cb3c87b7-f9c2-45d7-865c-6a3bef571254",
        "colab": {
          "base_uri": "https://localhost:8080/",
          "height": 55
        }
      },
      "source": [
        "key = os.environ.get('AZURE_SEARCH_KEY', '9532a3cbe5f349c7ad904708cd7c8429')\n",
        "search_images_bing\n",
        "\n",
        "food_types = 'donut','bagel','muffin','croissant'\n",
        "path = Path('food_types')\n",
        "if not path.exists():\n",
        "    path.mkdir()\n",
        "    for o in food_types:\n",
        "        dest = (path/o)\n",
        "        dest.mkdir(exist_ok=True)\n",
        "        results = search_images_bing(key, f'{o}')\n",
        "        download_images(dest, urls=results.attrgot('content_url'))\n",
        "\n",
        "fns = get_image_files(path)\n",
        "fns"
      ],
      "execution_count": 13,
      "outputs": [
        {
          "output_type": "display_data",
          "data": {
            "text/html": [
              ""
            ],
            "text/plain": [
              "<IPython.core.display.HTML object>"
            ]
          },
          "metadata": {
            "tags": []
          }
        },
        {
          "output_type": "display_data",
          "data": {
            "text/html": [
              ""
            ],
            "text/plain": [
              "<IPython.core.display.HTML object>"
            ]
          },
          "metadata": {
            "tags": []
          }
        },
        {
          "output_type": "display_data",
          "data": {
            "text/html": [
              ""
            ],
            "text/plain": [
              "<IPython.core.display.HTML object>"
            ]
          },
          "metadata": {
            "tags": []
          }
        },
        {
          "output_type": "display_data",
          "data": {
            "text/html": [
              ""
            ],
            "text/plain": [
              "<IPython.core.display.HTML object>"
            ]
          },
          "metadata": {
            "tags": []
          }
        },
        {
          "output_type": "execute_result",
          "data": {
            "text/plain": [
              "(#594) [Path('food_types/donut/00000148.jpg'),Path('food_types/donut/00000053.jpg'),Path('food_types/donut/00000024.jpg'),Path('food_types/donut/00000134.jpg'),Path('food_types/donut/00000021.jpg'),Path('food_types/donut/00000139.jpg'),Path('food_types/donut/00000109.png'),Path('food_types/donut/00000122.jpg'),Path('food_types/donut/00000098.png'),Path('food_types/donut/00000075.jpg')...]"
            ]
          },
          "metadata": {
            "tags": []
          },
          "execution_count": 13
        }
      ]
    },
    {
      "cell_type": "code",
      "metadata": {
        "id": "kInDzabja6jC",
        "outputId": "5f9b4ba8-194a-4cf8-e501-907f7f988d1a",
        "colab": {
          "base_uri": "https://localhost:8080/",
          "height": 72
        }
      },
      "source": [
        "failed = verify_images(fns)\n",
        "failed\n",
        "\n",
        "failed.map(Path.unlink);"
      ],
      "execution_count": 14,
      "outputs": [
        {
          "output_type": "display_data",
          "data": {
            "text/html": [
              ""
            ],
            "text/plain": [
              "<IPython.core.display.HTML object>"
            ]
          },
          "metadata": {
            "tags": []
          }
        },
        {
          "output_type": "stream",
          "text": [
            "/usr/local/lib/python3.6/dist-packages/PIL/TiffImagePlugin.py:788: UserWarning: Corrupt EXIF data.  Expecting to read 4 bytes but only got 0. \n",
            "  warnings.warn(str(msg))\n"
          ],
          "name": "stderr"
        }
      ]
    },
    {
      "cell_type": "code",
      "metadata": {
        "id": "sTOjVcezb6eE"
      },
      "source": [
        "food = DataBlock(\n",
        "    blocks=(ImageBlock, CategoryBlock), \n",
        "    get_items=get_image_files, \n",
        "    splitter=RandomSplitter(valid_pct=0.2, seed=42),\n",
        "    get_y=parent_label,\n",
        "    item_tfms=Resize(128))\n",
        "\n",
        "food = food.new(\n",
        "    item_tfms=RandomResizedCrop(224, min_scale=0.5),\n",
        "    batch_tfms=aug_transforms())\n",
        "dls = food.dataloaders(path)\n"
      ],
      "execution_count": 16,
      "outputs": []
    },
    {
      "cell_type": "code",
      "metadata": {
        "id": "SPGbt9ffcluU",
        "outputId": "c338cfd4-2958-4b36-8416-dce89de8ef89",
        "colab": {
          "base_uri": "https://localhost:8080/",
          "height": 1000,
          "referenced_widgets": [
            "5ccdba930f3545ebbdc759026b6d0298",
            "36fd917afcf94d7da3e2e743baf2ad5c",
            "47b2bdd943e442f08d6056f9500cb482",
            "19e9db9e8e4340b4b0e83b0f63a0a820",
            "c40bdba766e647fdba138bf132634f9d",
            "16b0b7188d4d4a9299030e73a0dc9418",
            "7137f78480ca4f0780cb5daf7dc96e81",
            "dc5fc7cf6df44db1b385a4f091da3087"
          ]
        }
      },
      "source": [
        "learn = cnn_learner(dls, resnet18, metrics=error_rate)\n",
        "learn.fine_tune(4)"
      ],
      "execution_count": 17,
      "outputs": [
        {
          "output_type": "stream",
          "text": [
            "Downloading: \"https://download.pytorch.org/models/resnet18-5c106cde.pth\" to /root/.cache/torch/hub/checkpoints/resnet18-5c106cde.pth\n"
          ],
          "name": "stderr"
        },
        {
          "output_type": "display_data",
          "data": {
            "application/vnd.jupyter.widget-view+json": {
              "model_id": "5ccdba930f3545ebbdc759026b6d0298",
              "version_minor": 0,
              "version_major": 2
            },
            "text/plain": [
              "HBox(children=(FloatProgress(value=0.0, max=46827520.0), HTML(value='')))"
            ]
          },
          "metadata": {
            "tags": []
          }
        },
        {
          "output_type": "stream",
          "text": [
            "\n"
          ],
          "name": "stdout"
        },
        {
          "output_type": "display_data",
          "data": {
            "text/html": [
              "<table border=\"1\" class=\"dataframe\">\n",
              "  <thead>\n",
              "    <tr style=\"text-align: left;\">\n",
              "      <th>epoch</th>\n",
              "      <th>train_loss</th>\n",
              "      <th>valid_loss</th>\n",
              "      <th>error_rate</th>\n",
              "      <th>time</th>\n",
              "    </tr>\n",
              "  </thead>\n",
              "  <tbody>\n",
              "    <tr>\n",
              "      <td>0</td>\n",
              "      <td>1.871915</td>\n",
              "      <td>0.911246</td>\n",
              "      <td>0.324786</td>\n",
              "      <td>00:26</td>\n",
              "    </tr>\n",
              "  </tbody>\n",
              "</table>"
            ],
            "text/plain": [
              "<IPython.core.display.HTML object>"
            ]
          },
          "metadata": {
            "tags": []
          }
        },
        {
          "output_type": "stream",
          "text": [
            "/usr/local/lib/python3.6/dist-packages/PIL/Image.py:932: UserWarning: Palette images with Transparency expressed in bytes should be converted to RGBA images\n",
            "  \"Palette images with Transparency expressed in bytes should be \"\n",
            "/usr/local/lib/python3.6/dist-packages/PIL/TiffImagePlugin.py:788: UserWarning: Corrupt EXIF data.  Expecting to read 4 bytes but only got 0. \n",
            "  warnings.warn(str(msg))\n",
            "/usr/local/lib/python3.6/dist-packages/PIL/TiffImagePlugin.py:788: UserWarning: Corrupt EXIF data.  Expecting to read 4 bytes but only got 0. \n",
            "  warnings.warn(str(msg))\n",
            "/usr/local/lib/python3.6/dist-packages/PIL/Image.py:932: UserWarning: Palette images with Transparency expressed in bytes should be converted to RGBA images\n",
            "  \"Palette images with Transparency expressed in bytes should be \"\n",
            "/usr/local/lib/python3.6/dist-packages/PIL/TiffImagePlugin.py:788: UserWarning: Corrupt EXIF data.  Expecting to read 4 bytes but only got 0. \n",
            "  warnings.warn(str(msg))\n"
          ],
          "name": "stderr"
        },
        {
          "output_type": "display_data",
          "data": {
            "text/html": [
              "<table border=\"1\" class=\"dataframe\">\n",
              "  <thead>\n",
              "    <tr style=\"text-align: left;\">\n",
              "      <th>epoch</th>\n",
              "      <th>train_loss</th>\n",
              "      <th>valid_loss</th>\n",
              "      <th>error_rate</th>\n",
              "      <th>time</th>\n",
              "    </tr>\n",
              "  </thead>\n",
              "  <tbody>\n",
              "    <tr>\n",
              "      <td>0</td>\n",
              "      <td>0.891627</td>\n",
              "      <td>0.571959</td>\n",
              "      <td>0.230769</td>\n",
              "      <td>00:26</td>\n",
              "    </tr>\n",
              "    <tr>\n",
              "      <td>1</td>\n",
              "      <td>0.711526</td>\n",
              "      <td>0.547502</td>\n",
              "      <td>0.170940</td>\n",
              "      <td>00:26</td>\n",
              "    </tr>\n",
              "    <tr>\n",
              "      <td>2</td>\n",
              "      <td>0.597598</td>\n",
              "      <td>0.609545</td>\n",
              "      <td>0.179487</td>\n",
              "      <td>00:26</td>\n",
              "    </tr>\n",
              "    <tr>\n",
              "      <td>3</td>\n",
              "      <td>0.486454</td>\n",
              "      <td>0.614154</td>\n",
              "      <td>0.179487</td>\n",
              "      <td>00:26</td>\n",
              "    </tr>\n",
              "  </tbody>\n",
              "</table>"
            ],
            "text/plain": [
              "<IPython.core.display.HTML object>"
            ]
          },
          "metadata": {
            "tags": []
          }
        },
        {
          "output_type": "stream",
          "text": [
            "/usr/local/lib/python3.6/dist-packages/PIL/TiffImagePlugin.py:788: UserWarning: Corrupt EXIF data.  Expecting to read 4 bytes but only got 0. \n",
            "  warnings.warn(str(msg))\n",
            "/usr/local/lib/python3.6/dist-packages/PIL/Image.py:932: UserWarning: Palette images with Transparency expressed in bytes should be converted to RGBA images\n",
            "  \"Palette images with Transparency expressed in bytes should be \"\n",
            "/usr/local/lib/python3.6/dist-packages/PIL/Image.py:932: UserWarning: Palette images with Transparency expressed in bytes should be converted to RGBA images\n",
            "  \"Palette images with Transparency expressed in bytes should be \"\n",
            "/usr/local/lib/python3.6/dist-packages/PIL/TiffImagePlugin.py:788: UserWarning: Corrupt EXIF data.  Expecting to read 4 bytes but only got 0. \n",
            "  warnings.warn(str(msg))\n",
            "/usr/local/lib/python3.6/dist-packages/PIL/TiffImagePlugin.py:788: UserWarning: Corrupt EXIF data.  Expecting to read 4 bytes but only got 0. \n",
            "  warnings.warn(str(msg))\n",
            "/usr/local/lib/python3.6/dist-packages/PIL/Image.py:932: UserWarning: Palette images with Transparency expressed in bytes should be converted to RGBA images\n",
            "  \"Palette images with Transparency expressed in bytes should be \"\n",
            "/usr/local/lib/python3.6/dist-packages/PIL/Image.py:932: UserWarning: Palette images with Transparency expressed in bytes should be converted to RGBA images\n",
            "  \"Palette images with Transparency expressed in bytes should be \"\n",
            "/usr/local/lib/python3.6/dist-packages/PIL/TiffImagePlugin.py:788: UserWarning: Corrupt EXIF data.  Expecting to read 4 bytes but only got 0. \n",
            "  warnings.warn(str(msg))\n",
            "/usr/local/lib/python3.6/dist-packages/PIL/TiffImagePlugin.py:788: UserWarning: Corrupt EXIF data.  Expecting to read 4 bytes but only got 0. \n",
            "  warnings.warn(str(msg))\n",
            "/usr/local/lib/python3.6/dist-packages/PIL/TiffImagePlugin.py:788: UserWarning: Corrupt EXIF data.  Expecting to read 4 bytes but only got 0. \n",
            "  warnings.warn(str(msg))\n",
            "/usr/local/lib/python3.6/dist-packages/PIL/Image.py:932: UserWarning: Palette images with Transparency expressed in bytes should be converted to RGBA images\n",
            "  \"Palette images with Transparency expressed in bytes should be \"\n",
            "/usr/local/lib/python3.6/dist-packages/PIL/TiffImagePlugin.py:788: UserWarning: Corrupt EXIF data.  Expecting to read 4 bytes but only got 0. \n",
            "  warnings.warn(str(msg))\n",
            "/usr/local/lib/python3.6/dist-packages/PIL/TiffImagePlugin.py:788: UserWarning: Corrupt EXIF data.  Expecting to read 4 bytes but only got 0. \n",
            "  warnings.warn(str(msg))\n",
            "/usr/local/lib/python3.6/dist-packages/PIL/Image.py:932: UserWarning: Palette images with Transparency expressed in bytes should be converted to RGBA images\n",
            "  \"Palette images with Transparency expressed in bytes should be \"\n",
            "/usr/local/lib/python3.6/dist-packages/PIL/TiffImagePlugin.py:788: UserWarning: Corrupt EXIF data.  Expecting to read 4 bytes but only got 0. \n",
            "  warnings.warn(str(msg))\n",
            "/usr/local/lib/python3.6/dist-packages/PIL/TiffImagePlugin.py:788: UserWarning: Corrupt EXIF data.  Expecting to read 4 bytes but only got 0. \n",
            "  warnings.warn(str(msg))\n",
            "/usr/local/lib/python3.6/dist-packages/PIL/TiffImagePlugin.py:788: UserWarning: Corrupt EXIF data.  Expecting to read 4 bytes but only got 0. \n",
            "  warnings.warn(str(msg))\n"
          ],
          "name": "stderr"
        }
      ]
    },
    {
      "cell_type": "code",
      "metadata": {
        "id": "f-1mY_wYc4Sr",
        "outputId": "1f9ca95f-898f-4087-ff7c-f6b479f6838c",
        "colab": {
          "base_uri": "https://localhost:8080/",
          "height": 366
        }
      },
      "source": [
        "interp = ClassificationInterpretation.from_learner(learn)\n",
        "interp.plot_confusion_matrix()\n",
        "\n",
        "#learn.export()\n",
        "#path = Path()\n",
        "#path.ls(file_exts='.pkl')\n",
        "#learn_inf = load_learner(path/'export.pkl')\n"
      ],
      "execution_count": 18,
      "outputs": [
        {
          "output_type": "display_data",
          "data": {
            "text/html": [
              ""
            ],
            "text/plain": [
              "<IPython.core.display.HTML object>"
            ]
          },
          "metadata": {
            "tags": []
          }
        },
        {
          "output_type": "stream",
          "text": [
            "/usr/local/lib/python3.6/dist-packages/PIL/TiffImagePlugin.py:788: UserWarning: Corrupt EXIF data.  Expecting to read 4 bytes but only got 0. \n",
            "  warnings.warn(str(msg))\n"
          ],
          "name": "stderr"
        },
        {
          "output_type": "display_data",
          "data": {
            "image/png": "[encoded data removed]",
            "text/plain": [
              "<Figure size 432x288 with 1 Axes>"
            ]
          },
          "metadata": {
            "tags": [],
            "needs_background": "light"
          }
        }
      ]
    },
    {
      "cell_type": "code",
      "metadata": {
        "id": "ldxuhLWudY65",
        "outputId": "b35501fe-d6e4-46dd-a2cd-42a18fb7c9fa",
        "colab": {
          "base_uri": "https://localhost:8080/",
          "height": 273,
          "referenced_widgets": [
            "f4cfe52c5b5b4ff699fea40a8d0a6bf3",
            "4453f1e6c671435895f9670726cc7fdf",
            "dc8d5d1e152e4a2c850a68664166c7da",
            "f57b5ba4276d4298a3cedb8cebf4cf94",
            "5edc8554ab9a4443ac23b6293d2d2405",
            "0eca6b416db54f0db00965d695387f57",
            "e4432dcf8c314f868ad6d561051eded6",
            "b3a9b2247e8e43c4b2ba4042283eaae1",
            "20e47569b09f41db81063cb644a81a0b",
            "a5784097d3fd416e861192490e4ef9f0",
            "69382279cdd043f3a9080c04c545d6d8",
            "8bda27be9d8a485682f00af18960aeca",
            "c29371c9b39e4e24a6b28bf36c51a413",
            "e87bb1518387497f98f68af538a0819e",
            "ab8aa25503fe4c3488e360e9c2a2032d",
            "0269c1ec4b364c2b94006f853b59d9e9"
          ]
        }
      },
      "source": [
        "btn_upload = widgets.FileUpload()\n",
        "out_pl = widgets.Output()\n",
        "lbl_pred = widgets.Label()\n",
        "btn_run = widgets.Button(description='Classify')\n",
        "\n",
        "def on_click_classify(change):\n",
        "    img = PILImage.create(btn_upload.data[-1])\n",
        "    out_pl.clear_output()\n",
        "    with out_pl: display(img.to_thumb(128,128))\n",
        "    pred,pred_idx,probs = learn_inf.predict(img)\n",
        "    lbl_pred.value = f'Prediction: {pred}; Probability: {probs[pred_idx]:.04f}'\n",
        "\n",
        "btn_run.on_click(on_click_classify)\n",
        "VBox([widgets.Label('Select your bear!'), \n",
        "      btn_upload, btn_run,out_pl,lbl_pred])"
      ],
      "execution_count": 26,
      "outputs": [
        {
          "output_type": "display_data",
          "data": {
            "application/vnd.jupyter.widget-view+json": {
              "model_id": "f4cfe52c5b5b4ff699fea40a8d0a6bf3",
              "version_minor": 0,
              "version_major": 2
            },
            "text/plain": [
              "VBox(children=(Label(value='Select your bear!'), FileUpload(value={}, description='Upload'), Button(descriptio…"
            ]
          },
          "metadata": {
            "tags": []
          }
        },
        {
          "output_type": "display_data",
          "data": {
            "text/html": [
              ""
            ],
            "text/plain": [
              "<IPython.core.display.HTML object>"
            ]
          },
          "metadata": {
            "tags": []
          }
        }
      ]
    },
    {
      "cell_type": "code",
      "metadata": {
        "id": "aYEJsojZd0tj"
      },
      "source": [
        "#!pip install voila\n",
        "#!jupyter serverextension enable voila —sys-prefix"
      ],
      "execution_count": null,
      "outputs": []
    }
  ]
}